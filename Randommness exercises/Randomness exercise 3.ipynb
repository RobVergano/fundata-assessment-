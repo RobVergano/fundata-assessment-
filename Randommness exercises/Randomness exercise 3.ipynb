{
 "cells": [
  {
   "cell_type": "markdown",
   "id": "09251191",
   "metadata": {},
   "source": [
    "Exercise 3\n",
    "\n",
    "Plot bar charts or histograms of any three different distributions listed at the following link:\n",
    "https://numpy.org/doc/stable/reference/random/generator.html#distributions"
   ]
  },
  {
   "cell_type": "code",
   "execution_count": 38,
   "id": "25183b39",
   "metadata": {},
   "outputs": [],
   "source": [
    "import matplotlib.pyplot as plt\n",
    "import numpy as np"
   ]
  },
  {
   "cell_type": "markdown",
   "id": "4591ee40",
   "metadata": {},
   "source": [
    "EXPONENTIAL DISTRIBUTION"
   ]
  },
  {
   "cell_type": "code",
   "execution_count": 39,
   "id": "ea2b693f",
   "metadata": {
    "scrolled": true
   },
   "outputs": [
    {
     "data": {
      "text/plain": [
       "(array([773., 792., 771., 671., 600., 538., 499., 444., 378., 386., 338.,\n",
       "        335., 291., 295., 258., 202., 214., 170., 143., 156., 162., 128.,\n",
       "        119., 116.,  90.,  93.,  96.,  75.,  72.,  73.,  59.,  50.,  46.,\n",
       "         43.,  45.,  39.,  35.,  38.,  31.,  34.,  28.,  25.,  20.,  17.,\n",
       "         14.,  10.,  20.,  18.,  16.,   9.,   9.,  12.,  11.,   8.,   5.,\n",
       "         11.,   5.,   6.,   4.,   2.,   1.,   1.,   6.,   2.,   4.,   3.,\n",
       "          1.,   4.,   2.,   3.,   2.,   1.,   3.,   3.,   2.,   2.,   1.,\n",
       "          1.,   1.,   2.,   0.,   2.,   0.,   0.,   0.,   0.,   0.,   1.,\n",
       "          0.,   0.,   0.,   0.,   0.,   2.,   0.,   0.,   0.,   0.,   1.,\n",
       "          1.]),\n",
       " array([1.39928981e-04, 8.73734272e-02, 1.74606926e-01, 2.61840424e-01,\n",
       "        3.49073922e-01, 4.36307420e-01, 5.23540919e-01, 6.10774417e-01,\n",
       "        6.98007915e-01, 7.85241413e-01, 8.72474912e-01, 9.59708410e-01,\n",
       "        1.04694191e+00, 1.13417541e+00, 1.22140890e+00, 1.30864240e+00,\n",
       "        1.39587590e+00, 1.48310940e+00, 1.57034290e+00, 1.65757640e+00,\n",
       "        1.74480989e+00, 1.83204339e+00, 1.91927689e+00, 2.00651039e+00,\n",
       "        2.09374389e+00, 2.18097739e+00, 2.26821088e+00, 2.35544438e+00,\n",
       "        2.44267788e+00, 2.52991138e+00, 2.61714488e+00, 2.70437838e+00,\n",
       "        2.79161187e+00, 2.87884537e+00, 2.96607887e+00, 3.05331237e+00,\n",
       "        3.14054587e+00, 3.22777936e+00, 3.31501286e+00, 3.40224636e+00,\n",
       "        3.48947986e+00, 3.57671336e+00, 3.66394686e+00, 3.75118035e+00,\n",
       "        3.83841385e+00, 3.92564735e+00, 4.01288085e+00, 4.10011435e+00,\n",
       "        4.18734785e+00, 4.27458134e+00, 4.36181484e+00, 4.44904834e+00,\n",
       "        4.53628184e+00, 4.62351534e+00, 4.71074884e+00, 4.79798233e+00,\n",
       "        4.88521583e+00, 4.97244933e+00, 5.05968283e+00, 5.14691633e+00,\n",
       "        5.23414982e+00, 5.32138332e+00, 5.40861682e+00, 5.49585032e+00,\n",
       "        5.58308382e+00, 5.67031732e+00, 5.75755081e+00, 5.84478431e+00,\n",
       "        5.93201781e+00, 6.01925131e+00, 6.10648481e+00, 6.19371831e+00,\n",
       "        6.28095180e+00, 6.36818530e+00, 6.45541880e+00, 6.54265230e+00,\n",
       "        6.62988580e+00, 6.71711930e+00, 6.80435279e+00, 6.89158629e+00,\n",
       "        6.97881979e+00, 7.06605329e+00, 7.15328679e+00, 7.24052028e+00,\n",
       "        7.32775378e+00, 7.41498728e+00, 7.50222078e+00, 7.58945428e+00,\n",
       "        7.67668778e+00, 7.76392127e+00, 7.85115477e+00, 7.93838827e+00,\n",
       "        8.02562177e+00, 8.11285527e+00, 8.20008877e+00, 8.28732226e+00,\n",
       "        8.37455576e+00, 8.46178926e+00, 8.54902276e+00, 8.63625626e+00,\n",
       "        8.72348976e+00]),\n",
       " <BarContainer object of 100 artists>)"
      ]
     },
     "execution_count": 39,
     "metadata": {},
     "output_type": "execute_result"
    },
    {
     "data": {
      "image/png": "[encoded data removed]",
      "text/plain": [
       "<Figure size 432x288 with 1 Axes>"
      ]
     },
     "metadata": {
      "needs_background": "light"
     },
     "output_type": "display_data"
    }
   ],
   "source": [
    "rng = np.random.default_rng(0)\n",
    "samples = rng.exponential (scale= 1.0, size = 10000) \n",
    "fig, ax = plt.subplots()\n",
    "ax.hist(samples, bins=100)"
   ]
  },
  {
   "cell_type": "markdown",
   "id": "bf99f923",
   "metadata": {},
   "source": [
    "GEOMETRIC DISTRIBUTION"
   ]
  },
  {
   "cell_type": "code",
   "execution_count": 40,
   "id": "a7e7b532",
   "metadata": {},
   "outputs": [
    {
     "data": {
      "text/plain": [
       "(array([3.008e+03, 0.000e+00, 2.064e+03, 0.000e+00, 0.000e+00, 1.472e+03,\n",
       "        0.000e+00, 0.000e+00, 1.042e+03, 0.000e+00, 0.000e+00, 7.490e+02,\n",
       "        0.000e+00, 0.000e+00, 5.190e+02, 0.000e+00, 0.000e+00, 3.470e+02,\n",
       "        0.000e+00, 0.000e+00, 2.230e+02, 0.000e+00, 1.660e+02, 0.000e+00,\n",
       "        0.000e+00, 1.310e+02, 0.000e+00, 0.000e+00, 8.400e+01, 0.000e+00,\n",
       "        0.000e+00, 5.400e+01, 0.000e+00, 0.000e+00, 3.300e+01, 0.000e+00,\n",
       "        0.000e+00, 3.000e+01, 0.000e+00, 0.000e+00, 2.100e+01, 0.000e+00,\n",
       "        1.500e+01, 0.000e+00, 0.000e+00, 1.800e+01, 0.000e+00, 0.000e+00,\n",
       "        5.000e+00, 0.000e+00, 0.000e+00, 3.000e+00, 0.000e+00, 0.000e+00,\n",
       "        6.000e+00, 0.000e+00, 0.000e+00, 1.000e+00, 0.000e+00, 0.000e+00,\n",
       "        4.000e+00, 0.000e+00, 0.000e+00, 0.000e+00, 0.000e+00, 2.000e+00,\n",
       "        0.000e+00, 0.000e+00, 0.000e+00, 0.000e+00, 0.000e+00, 1.000e+00,\n",
       "        0.000e+00, 0.000e+00, 1.000e+00, 0.000e+00, 0.000e+00, 0.000e+00,\n",
       "        0.000e+00, 0.000e+00, 0.000e+00, 0.000e+00, 0.000e+00, 0.000e+00,\n",
       "        0.000e+00, 0.000e+00, 0.000e+00, 0.000e+00, 0.000e+00, 0.000e+00,\n",
       "        0.000e+00, 0.000e+00, 0.000e+00, 0.000e+00, 0.000e+00, 0.000e+00,\n",
       "        0.000e+00, 0.000e+00, 0.000e+00, 1.000e+00]),\n",
       " array([ 1.  ,  1.35,  1.7 ,  2.05,  2.4 ,  2.75,  3.1 ,  3.45,  3.8 ,\n",
       "         4.15,  4.5 ,  4.85,  5.2 ,  5.55,  5.9 ,  6.25,  6.6 ,  6.95,\n",
       "         7.3 ,  7.65,  8.  ,  8.35,  8.7 ,  9.05,  9.4 ,  9.75, 10.1 ,\n",
       "        10.45, 10.8 , 11.15, 11.5 , 11.85, 12.2 , 12.55, 12.9 , 13.25,\n",
       "        13.6 , 13.95, 14.3 , 14.65, 15.  , 15.35, 15.7 , 16.05, 16.4 ,\n",
       "        16.75, 17.1 , 17.45, 17.8 , 18.15, 18.5 , 18.85, 19.2 , 19.55,\n",
       "        19.9 , 20.25, 20.6 , 20.95, 21.3 , 21.65, 22.  , 22.35, 22.7 ,\n",
       "        23.05, 23.4 , 23.75, 24.1 , 24.45, 24.8 , 25.15, 25.5 , 25.85,\n",
       "        26.2 , 26.55, 26.9 , 27.25, 27.6 , 27.95, 28.3 , 28.65, 29.  ,\n",
       "        29.35, 29.7 , 30.05, 30.4 , 30.75, 31.1 , 31.45, 31.8 , 32.15,\n",
       "        32.5 , 32.85, 33.2 , 33.55, 33.9 , 34.25, 34.6 , 34.95, 35.3 ,\n",
       "        35.65, 36.  ]),\n",
       " <BarContainer object of 100 artists>)"
      ]
     },
     "execution_count": 40,
     "metadata": {},
     "output_type": "execute_result"
    },
    {
     "data": {
      "image/png": "[encoded data removed]",
      "text/plain": [
       "<Figure size 432x288 with 1 Axes>"
      ]
     },
     "metadata": {
      "needs_background": "light"
     },
     "output_type": "display_data"
    }
   ],
   "source": [
    "rng = np.random.default_rng(0)\n",
    "samples = rng.geometric(0.3, size = 10000)\n",
    "fig, ax = plt.subplots()\n",
    "ax.hist(samples, bins=100)"
   ]
  },
  {
   "cell_type": "markdown",
   "id": "49187b90",
   "metadata": {},
   "source": [
    "LOGISTIC DISTRIBUTION"
   ]
  },
  {
   "cell_type": "code",
   "execution_count": 41,
   "id": "2846896f",
   "metadata": {},
   "outputs": [
    {
     "data": {
      "text/plain": [
       "(array([  1.,   0.,   1.,   2.,   1.,   5.,   0.,   1.,   0.,   0.,   2.,\n",
       "          1.,   3.,   4.,   4.,   5.,  10.,   9.,  10.,  16.,  18.,  20.,\n",
       "         40.,  35.,  55.,  55.,  70.,  82., 117., 121., 188., 177., 217.,\n",
       "        268., 308., 323., 395., 419., 468., 506., 551., 505., 546., 554.,\n",
       "        479., 493., 412., 392., 348., 315., 265., 197., 186., 143., 104.,\n",
       "        101.,  81.,  77.,  52.,  49.,  35.,  29.,  18.,  19.,  19.,   8.,\n",
       "         14.,   9.,  12.,   7.,   4.,   1.,   2.,   5.,   2.,   0.,   1.,\n",
       "          3.,   0.,   0.,   2.,   0.,   1.,   0.,   0.,   1.,   0.,   0.,\n",
       "          0.,   0.,   0.,   0.,   0.,   0.,   0.,   0.,   0.,   0.,   0.,\n",
       "          1.]),\n",
       " array([-9.13320835e+00, -8.91545616e+00, -8.69770397e+00, -8.47995178e+00,\n",
       "        -8.26219959e+00, -8.04444740e+00, -7.82669521e+00, -7.60894302e+00,\n",
       "        -7.39119083e+00, -7.17343864e+00, -6.95568645e+00, -6.73793426e+00,\n",
       "        -6.52018207e+00, -6.30242988e+00, -6.08467769e+00, -5.86692550e+00,\n",
       "        -5.64917332e+00, -5.43142113e+00, -5.21366894e+00, -4.99591675e+00,\n",
       "        -4.77816456e+00, -4.56041237e+00, -4.34266018e+00, -4.12490799e+00,\n",
       "        -3.90715580e+00, -3.68940361e+00, -3.47165142e+00, -3.25389923e+00,\n",
       "        -3.03614704e+00, -2.81839485e+00, -2.60064266e+00, -2.38289047e+00,\n",
       "        -2.16513828e+00, -1.94738609e+00, -1.72963390e+00, -1.51188171e+00,\n",
       "        -1.29412952e+00, -1.07637733e+00, -8.58625145e-01, -6.40872955e-01,\n",
       "        -4.23120766e-01, -2.05368576e-01,  1.23836136e-02,  2.30135803e-01,\n",
       "         4.47887993e-01,  6.65640182e-01,  8.83392372e-01,  1.10114456e+00,\n",
       "         1.31889675e+00,  1.53664894e+00,  1.75440113e+00,  1.97215332e+00,\n",
       "         2.18990551e+00,  2.40765770e+00,  2.62540989e+00,  2.84316208e+00,\n",
       "         3.06091427e+00,  3.27866646e+00,  3.49641865e+00,  3.71417084e+00,\n",
       "         3.93192303e+00,  4.14967522e+00,  4.36742741e+00,  4.58517959e+00,\n",
       "         4.80293178e+00,  5.02068397e+00,  5.23843616e+00,  5.45618835e+00,\n",
       "         5.67394054e+00,  5.89169273e+00,  6.10944492e+00,  6.32719711e+00,\n",
       "         6.54494930e+00,  6.76270149e+00,  6.98045368e+00,  7.19820587e+00,\n",
       "         7.41595806e+00,  7.63371025e+00,  7.85146244e+00,  8.06921463e+00,\n",
       "         8.28696682e+00,  8.50471901e+00,  8.72247120e+00,  8.94022339e+00,\n",
       "         9.15797558e+00,  9.37572777e+00,  9.59347996e+00,  9.81123214e+00,\n",
       "         1.00289843e+01,  1.02467365e+01,  1.04644887e+01,  1.06822409e+01,\n",
       "         1.08999931e+01,  1.11177453e+01,  1.13354975e+01,  1.15532497e+01,\n",
       "         1.17710019e+01,  1.19887540e+01,  1.22065062e+01,  1.24242584e+01,\n",
       "         1.26420106e+01]),\n",
       " <BarContainer object of 100 artists>)"
      ]
     },
     "execution_count": 41,
     "metadata": {},
     "output_type": "execute_result"
    },
    {
     "data": {
      "image/png": "[encoded data removed]",
      "text/plain": [
       "<Figure size 432x288 with 1 Axes>"
      ]
     },
     "metadata": {
      "needs_background": "light"
     },
     "output_type": "display_data"
    }
   ],
   "source": [
    "rng = np.random.default_rng(0)\n",
    "samples = rng.logistic(loc=0.0, scale=1.0, size = 10000)\n",
    "fig, ax = plt.subplots()\n",
    "ax.hist(samples, bins=100)"
   ]
  },
  {
   "cell_type": "markdown",
   "id": "be44badd",
   "metadata": {},
   "source": [
    "POISSON DISTRIBUTION"
   ]
  },
  {
   "cell_type": "code",
   "execution_count": 42,
   "id": "92691bde",
   "metadata": {},
   "outputs": [
    {
     "data": {
      "text/plain": [
       "(array([3529.,    0.,    0.,    0.,    0.,    0.,    0.,    0.,    0.,\n",
       "           0.,    0.,    0.,    0.,    0.,    0.,    0., 3798.,    0.,\n",
       "           0.,    0.,    0.,    0.,    0.,    0.,    0.,    0.,    0.,\n",
       "           0.,    0.,    0.,    0.,    0.,    0., 1876.,    0.,    0.,\n",
       "           0.,    0.,    0.,    0.,    0.,    0.,    0.,    0.,    0.,\n",
       "           0.,    0.,    0.,    0.,    0.,  610.,    0.,    0.,    0.,\n",
       "           0.,    0.,    0.,    0.,    0.,    0.,    0.,    0.,    0.,\n",
       "           0.,    0.,    0.,  155.,    0.,    0.,    0.,    0.,    0.,\n",
       "           0.,    0.,    0.,    0.,    0.,    0.,    0.,    0.,    0.,\n",
       "           0.,    0.,   28.,    0.,    0.,    0.,    0.,    0.,    0.,\n",
       "           0.,    0.,    0.,    0.,    0.,    0.,    0.,    0.,    0.,\n",
       "           4.]),\n",
       " array([0.  , 0.06, 0.12, 0.18, 0.24, 0.3 , 0.36, 0.42, 0.48, 0.54, 0.6 ,\n",
       "        0.66, 0.72, 0.78, 0.84, 0.9 , 0.96, 1.02, 1.08, 1.14, 1.2 , 1.26,\n",
       "        1.32, 1.38, 1.44, 1.5 , 1.56, 1.62, 1.68, 1.74, 1.8 , 1.86, 1.92,\n",
       "        1.98, 2.04, 2.1 , 2.16, 2.22, 2.28, 2.34, 2.4 , 2.46, 2.52, 2.58,\n",
       "        2.64, 2.7 , 2.76, 2.82, 2.88, 2.94, 3.  , 3.06, 3.12, 3.18, 3.24,\n",
       "        3.3 , 3.36, 3.42, 3.48, 3.54, 3.6 , 3.66, 3.72, 3.78, 3.84, 3.9 ,\n",
       "        3.96, 4.02, 4.08, 4.14, 4.2 , 4.26, 4.32, 4.38, 4.44, 4.5 , 4.56,\n",
       "        4.62, 4.68, 4.74, 4.8 , 4.86, 4.92, 4.98, 5.04, 5.1 , 5.16, 5.22,\n",
       "        5.28, 5.34, 5.4 , 5.46, 5.52, 5.58, 5.64, 5.7 , 5.76, 5.82, 5.88,\n",
       "        5.94, 6.  ]),\n",
       " <BarContainer object of 100 artists>)"
      ]
     },
     "execution_count": 42,
     "metadata": {},
     "output_type": "execute_result"
    },
    {
     "data": {
      "image/png": "[encoded data removed]",
      "text/plain": [
       "<Figure size 432x288 with 1 Axes>"
      ]
     },
     "metadata": {
      "needs_background": "light"
     },
     "output_type": "display_data"
    }
   ],
   "source": [
    "rng = np.random.default_rng(0)\n",
    "samples = rng.poisson(lam=1.0, size = 10000)\n",
    "fig, ax = plt.subplots()\n",
    "ax.hist(samples, bins=100)"
   ]
  },
  {
   "cell_type": "markdown",
   "id": "01f9ee48",
   "metadata": {},
   "source": [
    "LAPLACE DISTRIBUTION"
   ]
  },
  {
   "cell_type": "code",
   "execution_count": 43,
   "id": "e3aeb3e3",
   "metadata": {},
   "outputs": [
    {
     "data": {
      "text/plain": [
       "(array([  1.,   0.,   1.,   1.,   1.,   4.,   2.,   0.,   1.,   0.,   1.,\n",
       "          1.,   2.,   2.,   4.,   4.,   4.,  10.,   8.,   8.,  16.,  12.,\n",
       "         20.,  30.,  35.,  45.,  46.,  71.,  62.,  98., 118., 129., 205.,\n",
       "        188., 259., 315., 381., 440., 542., 693., 871., 936., 791., 708.,\n",
       "        522., 445., 395., 312., 226., 185., 164., 113., 100.,  84.,  71.,\n",
       "         64.,  49.,  33.,  31.,  19.,  18.,  20.,  12.,  13.,   7.,   9.,\n",
       "         12.,   7.,   4.,   1.,   1.,   6.,   1.,   1.,   0.,   4.,   0.,\n",
       "          0.,   1.,   1.,   0.,   1.,   0.,   0.,   1.,   0.,   0.,   0.,\n",
       "          0.,   0.,   0.,   0.,   0.,   0.,   0.,   0.,   0.,   0.,   0.,\n",
       "          1.]),\n",
       " array([-8.44016918, -8.23627882, -8.03238846, -7.82849811, -7.62460775,\n",
       "        -7.42071739, -7.21682703, -7.01293667, -6.80904631, -6.60515595,\n",
       "        -6.4012656 , -6.19737524, -5.99348488, -5.78959452, -5.58570416,\n",
       "        -5.3818138 , -5.17792345, -4.97403309, -4.77014273, -4.56625237,\n",
       "        -4.36236201, -4.15847165, -3.9545813 , -3.75069094, -3.54680058,\n",
       "        -3.34291022, -3.13901986, -2.9351295 , -2.73123914, -2.52734879,\n",
       "        -2.32345843, -2.11956807, -1.91567771, -1.71178735, -1.50789699,\n",
       "        -1.30400664, -1.10011628, -0.89622592, -0.69233556, -0.4884452 ,\n",
       "        -0.28455484, -0.08066449,  0.12322587,  0.32711623,  0.53100659,\n",
       "         0.73489695,  0.93878731,  1.14267767,  1.34656802,  1.55045838,\n",
       "         1.75434874,  1.9582391 ,  2.16212946,  2.36601982,  2.56991017,\n",
       "         2.77380053,  2.97769089,  3.18158125,  3.38547161,  3.58936197,\n",
       "         3.79325232,  3.99714268,  4.20103304,  4.4049234 ,  4.60881376,\n",
       "         4.81270412,  5.01659448,  5.22048483,  5.42437519,  5.62826555,\n",
       "         5.83215591,  6.03604627,  6.23993663,  6.44382698,  6.64771734,\n",
       "         6.8516077 ,  7.05549806,  7.25938842,  7.46327878,  7.66716913,\n",
       "         7.87105949,  8.07494985,  8.27884021,  8.48273057,  8.68662093,\n",
       "         8.89051129,  9.09440164,  9.298292  ,  9.50218236,  9.70607272,\n",
       "         9.90996308, 10.11385344, 10.31774379, 10.52163415, 10.72552451,\n",
       "        10.92941487, 11.13330523, 11.33719559, 11.54108594, 11.7449763 ,\n",
       "        11.94886666]),\n",
       " <BarContainer object of 100 artists>)"
      ]
     },
     "execution_count": 43,
     "metadata": {},
     "output_type": "execute_result"
    },
    {
     "data": {
      "image/png": "[encoded data removed]",
      "text/plain": [
       "<Figure size 432x288 with 1 Axes>"
      ]
     },
     "metadata": {
      "needs_background": "light"
     },
     "output_type": "display_data"
    }
   ],
   "source": [
    "rng = np.random.default_rng(0)\n",
    "samples = rng.laplace(loc=0.0, scale = 1.0, size = 10000)\n",
    "fig, ax = plt.subplots()\n",
    "ax.hist(samples, bins=100)"
   ]
  }
 ],
 "metadata": {
  "kernelspec": {
   "display_name": "Python 3 (ipykernel)",
   "language": "python",
   "name": "python3"
  },
  "language_info": {
   "codemirror_mode": {
    "name": "ipython",
    "version": 3
   },
   "file_extension": ".py",
   "mimetype": "text/x-python",
   "name": "python",
   "nbconvert_exporter": "python",
   "pygments_lexer": "ipython3",
   "version": "3.9.7"
  }
 },
 "nbformat": 4,
 "nbformat_minor": 5
}
