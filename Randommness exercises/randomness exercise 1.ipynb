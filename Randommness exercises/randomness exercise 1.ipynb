{
 "cells": [
  {
   "cell_type": "code",
   "execution_count": null,
   "id": "daf935ae",
   "metadata": {},
   "outputs": [],
   "source": [
    "# Exercise: \n",
    "\n",
    "# It is somewhat interesting that (5 * 4 * 3 * 2 * 1) perfectly divides (10 * 9 * 8 * 7 * 6) - there's no remainder.\n",
    "\n",
    "# If we only wanted exactly four heads as opposed to five, the equivalent calculation would be (10 * 9 * 8 * 7) / (4 * 3 * 2 * 1).\n"
   ]
  },
  {
   "cell_type": "code",
   "execution_count": null,
   "id": "4f858812",
   "metadata": {},
   "outputs": [],
   "source": [
    "# Does that evenly divide too?"
   ]
  },
  {
   "cell_type": "code",
   "execution_count": null,
   "id": "e13b1cb6",
   "metadata": {},
   "outputs": [],
   "source": [
    "div = (10*9*8*7)/(4*3*2*1)\n",
    "print (div)"
   ]
  },
  {
   "cell_type": "code",
   "execution_count": null,
   "id": "efde1e8f",
   "metadata": {},
   "outputs": [],
   "source": [
    "# Yes, there is no remainder when we want exactly four heads instead of five. There are 210 ways of having four heads in 10 tosses. "
   ]
  },
  {
   "cell_type": "code",
   "execution_count": null,
   "id": "1d6820e1",
   "metadata": {},
   "outputs": [],
   "source": [
    "# What is the formula in general?"
   ]
  },
  {
   "cell_type": "code",
   "execution_count": null,
   "id": "0424f4ec",
   "metadata": {},
   "outputs": [],
   "source": [
    "# In maths, this belongs to combinations where repeats are allowed. The formula is: \n",
    "# Cr = n!/r!(n-r)!\n",
    "# where Cr = total number of combinations\n",
    "#       n = total number of objects from the set\n",
    "#       r = number of choosing objects from the set\n",
    "\n",
    "# In our case:\n",
    "\n",
    "# Cr = 10!/4!(10-4)! = 210\n",
    "\n",
    "# We can calculate the number of combinations using python as follows. "
   ]
  },
  {
   "cell_type": "code",
   "execution_count": null,
   "id": "f79f9c37",
   "metadata": {},
   "outputs": [],
   "source": [
    "# n = number of trials = 10 tosses\n",
    "# c = (n-r) from the formula above\n",
    "# Cr = number of combinations"
   ]
  },
  {
   "cell_type": "code",
   "execution_count": 27,
   "id": "48d776c0",
   "metadata": {},
   "outputs": [
    {
     "name": "stdout",
     "output_type": "stream",
     "text": [
      "Please enter a number of heads required: 4\n",
      "Please enter a number of tosses: 3\n",
      "The number of tosses must be bigger than the heads required\n",
      "Please enter a valid number of heads required: 3\n",
      "Please enter a valid number of tosses: 6\n",
      "The number of combination is  20.0\n"
     ]
    }
   ],
   "source": [
    "import math \n",
    "\n",
    "r = int(input(\"Please enter a number of heads required: \"))\n",
    "\n",
    "n = int(input(\"Please enter a number of tosses: \"))\n",
    "\n",
    "if n<r:\n",
    "    print (\"The number of tosses must be bigger than the heads required\")\n",
    "    r = int(input(\"Please enter a valid number of heads required: \"))\n",
    "    n = int(input(\"Please enter a valid number of tosses: \"))\n",
    "\n",
    "c = n - r \n",
    "\n",
    "n_fact = math.factorial (n)\n",
    "r_fact = math.factorial (r)\n",
    "c_fact = math.factorial (c)\n",
    "\n",
    "Cr = n_fact/(r_fact*c_fact)\n",
    "\n",
    "print (\"The number of combination is \", Cr)"
   ]
  },
  {
   "cell_type": "code",
   "execution_count": null,
   "id": "b99413c9",
   "metadata": {},
   "outputs": [],
   "source": [
    "# Does it always come out as a positive whole number? \n",
    "\n",
    "# Yes, it comes out as a positive whole number because the number of combinations are natural numbers.\n",
    "# It is either head or tail. It is not possible to get a half of the combination. \n"
   ]
  }
 ],
 "metadata": {
  "kernelspec": {
   "display_name": "Python 3 (ipykernel)",
   "language": "python",
   "name": "python3"
  },
  "language_info": {
   "codemirror_mode": {
    "name": "ipython",
    "version": 3
   },
   "file_extension": ".py",
   "mimetype": "text/x-python",
   "name": "python",
   "nbconvert_exporter": "python",
   "pygments_lexer": "ipython3",
   "version": "3.9.7"
  }
 },
 "nbformat": 4,
 "nbformat_minor": 5
}
