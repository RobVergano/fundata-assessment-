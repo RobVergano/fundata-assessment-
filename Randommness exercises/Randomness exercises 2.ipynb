{
 "cells": [
  {
   "cell_type": "markdown",
   "id": "16b87579",
   "metadata": {},
   "source": [
    "Exercise:\n",
    "\n",
    "Note that there are the same number of ways to get 4 tails as there to get 4 heads. Explain why this is."
   ]
  },
  {
   "cell_type": "markdown",
   "id": "eab6341a",
   "metadata": {},
   "source": [
    "An outcome \"counts\" if and only if it contains exactly 4 heads and 6 tails, and viceversa, 4 tails and 6 heads. Here, we need only compute the number of ways to choose exactly four heads or four tails, since the the other six will necessarily then be heads or tails. \n",
    "\n"
   ]
  },
  {
   "cell_type": "code",
   "execution_count": 8,
   "id": "8aa52e51",
   "metadata": {},
   "outputs": [
    {
     "name": "stdout",
     "output_type": "stream",
     "text": [
      "Please enter a number of heads/tails required: 4\n",
      "Please enter a number of tosses: 10\n",
      "The number of combination is  210.0\n"
     ]
    }
   ],
   "source": [
    "import math \n",
    "\n",
    "r = int(input(\"Please enter a number of heads/tails required: \"))\n",
    "\n",
    "n = int(input(\"Please enter a number of tosses: \"))\n",
    "\n",
    "if n<r:\n",
    "    print (\"The number of tosses must be bigger than the heads required\")\n",
    "    r = int(input(\"Please enter a valid number of heads required: \"))\n",
    "    n = int(input(\"Please enter a valid number of tosses: \"))\n",
    "\n",
    "c = n - r \n",
    "\n",
    "n_fact = math.factorial (n)\n",
    "r_fact = math.factorial (r)\n",
    "c_fact = math.factorial (c)\n",
    "\n",
    "Cr = n_fact/(r_fact*c_fact)\n",
    "\n",
    "print (\"The number of combination is \", Cr)"
   ]
  },
  {
   "cell_type": "code",
   "execution_count": null,
   "id": "a4cfe81d",
   "metadata": {},
   "outputs": [],
   "source": []
  }
 ],
 "metadata": {
  "kernelspec": {
   "display_name": "Python 3 (ipykernel)",
   "language": "python",
   "name": "python3"
  },
  "language_info": {
   "codemirror_mode": {
    "name": "ipython",
    "version": 3
   },
   "file_extension": ".py",
   "mimetype": "text/x-python",
   "name": "python",
   "nbconvert_exporter": "python",
   "pygments_lexer": "ipython3",
   "version": "3.9.7"
  }
 },
 "nbformat": 4,
 "nbformat_minor": 5
}
